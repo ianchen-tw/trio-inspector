{
 "cells": [
  {
   "cell_type": "code",
   "execution_count": null,
   "metadata": {},
   "outputs": [],
   "source": [
    "class Nursery:\n",
    "    def __init__(self):\n",
    "        self.child_tasks = []\n",
    "    def add_task(self, task):\n",
    "        if task not in self.child_tasks:\n",
    "            self.child_tasks.append(task)\n",
    "class Task:\n",
    "    def __init__(self):\n",
    "        self.child_nurseries = []\n",
    "            \n",
    "    def add_nursery(self, nursery):\n",
    "        if nursery not in self.child_nurseries:\n",
    "            self.child_nurseries.append(nursery)\n"
   ]
  },
  {
   "cell_type": "code",
   "execution_count": null,
   "metadata": {},
   "outputs": [],
   "source": [
    "root_task = Task()\n",
    "# n=Nursery()\n",
    "# root_task.add_nursery(n)\n",
    "# n.add_task(Task())\n",
    "# n.add_task(Task())\n",
    "# n.add_task(Task())\n",
    "\n"
   ]
  },
  {
   "cell_type": "code",
   "execution_count": null,
   "metadata": {},
   "outputs": [],
   "source": [
    "class TrioStateMonitor:\n",
    "    def __init__(self):\n",
    "        self.tree = None\n",
    "        \n",
    "        # Map from id of objects in trio to tree node\n",
    "        self.cache = {}\n",
    "        \n",
    "    def update_node_cache(self, node):\n",
    "        self.cache[node['id']] = node\n",
    "        \n",
    "    def build_state(self, root_task):\n",
    "        \"\"\"Build the node tree from ground up\"\"\"\n",
    "        if self.tree is None:\n",
    "            root_node = self.build_task_node(task=root_task, parent=None)\n",
    "            self.tree = root_node\n",
    "            self.update_node_cache(root_node)\n",
    "        return self.tree\n",
    "\n",
    "    def build_task_node(self, task, parent):\n",
    "        sub_nodes = []\n",
    "        node = {'id':id(task), 'val': task, 'type':\"task\", \"parent\":parent}\n",
    "        for nursery in task.child_nurseries:\n",
    "            nursery_node = self.build_nursery_node(nursery=nursery, parent=node)\n",
    "            self.update_node_cache(nursery_node)\n",
    "            sub_nodes.append(nursery_node)\n",
    "        node['child'] = sub_nodes\n",
    "        node[\"_id\"] = id(node)\n",
    "        return node\n",
    "            \n",
    "    def build_nursery_node(self, nursery, parent):\n",
    "        sub_nodes = []\n",
    "        node = { 'id': id(nursery), 'val': nursery, 'type':'nursery', \"parent\": parent}\n",
    "        for task in nursery.child_tasks:\n",
    "            task_node = self.build_task_node(task=task, parent=node)\n",
    "            self.update_node_cache(task_node)\n",
    "            sub_nodes.append(task_node)\n",
    "        node['child'] = sub_nodes\n",
    "        node[\"_id\"] = id(node)\n",
    "        return node\n",
    "\n",
    "    def task_added(self, task):\n",
    "        # the only way we could know is to rebuild the tree while task is added\n",
    "        pass\n",
    "\n"
   ]
  },
  {
   "cell_type": "code",
   "execution_count": null,
   "metadata": {},
   "outputs": [],
   "source": [
    "from pprint import pprint\n",
    "\n",
    "root_task = Task()\n",
    "\n",
    "sm = TrioStateMonitor()\n",
    "sm.build_state(root_task)\n",
    "\n",
    "\n",
    "n = Nursery()\n",
    "t= Task()\n",
    "n.add_task(t)\n",
    "\n",
    "sm.task_added(t)\n",
    "\n",
    "t= Task()\n",
    "n.add_task(t)\n",
    "sm.task_added(t)\n",
    "\n",
    "\n",
    "\n"
   ]
  },
  {
   "cell_type": "code",
   "execution_count": null,
   "metadata": {},
   "outputs": [],
   "source": [
    "from pprint import pprint\n",
    "\n",
    "sm = TrioStateMonitor()\n",
    "sm.build_state(root_task)\n",
    "\n",
    "\n",
    "print(\"==Tree==\")\n",
    "pprint(sm.tree)\n",
    "\n",
    "print(\"=Cache=\")\n",
    "# pprint(sm.cache)"
   ]
  }
 ],
 "metadata": {
  "kernelspec": {
   "display_name": "Python 3",
   "language": "python",
   "name": "python3"
  },
  "language_info": {
   "codemirror_mode": {
    "name": "ipython",
    "version": 3
   },
   "file_extension": ".py",
   "mimetype": "text/x-python",
   "name": "python",
   "nbconvert_exporter": "python",
   "pygments_lexer": "ipython3",
   "version": "3.8.3"
  }
 },
 "nbformat": 4,
 "nbformat_minor": 4
}
